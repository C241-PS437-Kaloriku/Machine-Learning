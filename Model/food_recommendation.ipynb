{
  "nbformat": 4,
  "nbformat_minor": 0,
  "metadata": {
    "colab": {
      "provenance": []
    },
    "kernelspec": {
      "name": "python3",
      "display_name": "Python 3"
    },
    "language_info": {
      "name": "python"
    }
  },
  "cells": [
    {
      "cell_type": "code",
      "execution_count": null,
      "metadata": {
        "id": "mZgiBRpEYC2J",
        "colab": {
          "base_uri": "https://localhost:8080/"
        },
        "outputId": "24160b44-0bf0-428d-f9fa-c379352c361d"
      },
      "outputs": [
        {
          "output_type": "stream",
          "name": "stdout",
          "text": [
            "Collecting tflite-support\n",
            "  Downloading tflite_support-0.4.4-cp310-cp310-manylinux2014_x86_64.whl (60.8 MB)\n",
            "\u001b[2K     \u001b[90m━━━━━━━━━━━━━━━━━━━━━━━━━━━━━━━━━━━━━━━━\u001b[0m \u001b[32m60.8/60.8 MB\u001b[0m \u001b[31m7.5 MB/s\u001b[0m eta \u001b[36m0:00:00\u001b[0m\n",
            "\u001b[?25hRequirement already satisfied: absl-py>=0.7.0 in /usr/local/lib/python3.10/dist-packages (from tflite-support) (1.4.0)\n",
            "Requirement already satisfied: numpy>=1.20.0 in /usr/local/lib/python3.10/dist-packages (from tflite-support) (1.25.2)\n",
            "Requirement already satisfied: flatbuffers>=2.0 in /usr/local/lib/python3.10/dist-packages (from tflite-support) (24.3.25)\n",
            "Requirement already satisfied: protobuf<4,>=3.18.0 in /usr/local/lib/python3.10/dist-packages (from tflite-support) (3.20.3)\n",
            "Collecting sounddevice>=0.4.4 (from tflite-support)\n",
            "  Downloading sounddevice-0.4.7-py3-none-any.whl (32 kB)\n",
            "Collecting pybind11>=2.6.0 (from tflite-support)\n",
            "  Downloading pybind11-2.12.0-py3-none-any.whl (234 kB)\n",
            "\u001b[2K     \u001b[90m━━━━━━━━━━━━━━━━━━━━━━━━━━━━━━━━━━━━━━━━\u001b[0m \u001b[32m235.0/235.0 kB\u001b[0m \u001b[31m7.3 MB/s\u001b[0m eta \u001b[36m0:00:00\u001b[0m\n",
            "\u001b[?25hRequirement already satisfied: CFFI>=1.0 in /usr/local/lib/python3.10/dist-packages (from sounddevice>=0.4.4->tflite-support) (1.16.0)\n",
            "Requirement already satisfied: pycparser in /usr/local/lib/python3.10/dist-packages (from CFFI>=1.0->sounddevice>=0.4.4->tflite-support) (2.22)\n",
            "Installing collected packages: pybind11, sounddevice, tflite-support\n",
            "Successfully installed pybind11-2.12.0 sounddevice-0.4.7 tflite-support-0.4.4\n",
            "Requirement already satisfied: flatbuffers in /usr/local/lib/python3.10/dist-packages (24.3.25)\n"
          ]
        }
      ],
      "source": [
        "!pip install tflite-support\n",
        "!pip install flatbuffers"
      ]
    },
    {
      "cell_type": "code",
      "source": [
        "from google.colab import drive\n",
        "drive.mount('/content/drive')\n"
      ],
      "metadata": {
        "colab": {
          "base_uri": "https://localhost:8080/"
        },
        "id": "NDba0zUCU8kv",
        "outputId": "fa9fc992-a464-4d80-a57d-8a1e69b84933"
      },
      "execution_count": null,
      "outputs": [
        {
          "output_type": "stream",
          "name": "stdout",
          "text": [
            "Mounted at /content/drive\n"
          ]
        }
      ]
    },
    {
      "cell_type": "code",
      "source": [
        "!pip install keras"
      ],
      "metadata": {
        "colab": {
          "base_uri": "https://localhost:8080/"
        },
        "id": "QfgWpwLKVuv5",
        "outputId": "98cd0594-744d-4044-df7a-a01aeac40e5a"
      },
      "execution_count": null,
      "outputs": [
        {
          "output_type": "stream",
          "name": "stdout",
          "text": [
            "Requirement already satisfied: keras in /usr/local/lib/python3.10/dist-packages (2.15.0)\n"
          ]
        }
      ]
    },
    {
      "cell_type": "code",
      "source": [
        "pip install tensorflow"
      ],
      "metadata": {
        "colab": {
          "base_uri": "https://localhost:8080/"
        },
        "id": "3C8sg-FGV2uA",
        "outputId": "5762cdb2-ea43-4410-bc1c-492cb39423f5"
      },
      "execution_count": null,
      "outputs": [
        {
          "output_type": "stream",
          "name": "stdout",
          "text": [
            "Requirement already satisfied: tensorflow in /usr/local/lib/python3.10/dist-packages (2.15.0)\n",
            "Requirement already satisfied: absl-py>=1.0.0 in /usr/local/lib/python3.10/dist-packages (from tensorflow) (1.4.0)\n",
            "Requirement already satisfied: astunparse>=1.6.0 in /usr/local/lib/python3.10/dist-packages (from tensorflow) (1.6.3)\n",
            "Requirement already satisfied: flatbuffers>=23.5.26 in /usr/local/lib/python3.10/dist-packages (from tensorflow) (24.3.25)\n",
            "Requirement already satisfied: gast!=0.5.0,!=0.5.1,!=0.5.2,>=0.2.1 in /usr/local/lib/python3.10/dist-packages (from tensorflow) (0.5.4)\n",
            "Requirement already satisfied: google-pasta>=0.1.1 in /usr/local/lib/python3.10/dist-packages (from tensorflow) (0.2.0)\n",
            "Requirement already satisfied: h5py>=2.9.0 in /usr/local/lib/python3.10/dist-packages (from tensorflow) (3.9.0)\n",
            "Requirement already satisfied: libclang>=13.0.0 in /usr/local/lib/python3.10/dist-packages (from tensorflow) (18.1.1)\n",
            "Requirement already satisfied: ml-dtypes~=0.2.0 in /usr/local/lib/python3.10/dist-packages (from tensorflow) (0.2.0)\n",
            "Requirement already satisfied: numpy<2.0.0,>=1.23.5 in /usr/local/lib/python3.10/dist-packages (from tensorflow) (1.25.2)\n",
            "Requirement already satisfied: opt-einsum>=2.3.2 in /usr/local/lib/python3.10/dist-packages (from tensorflow) (3.3.0)\n",
            "Requirement already satisfied: packaging in /usr/local/lib/python3.10/dist-packages (from tensorflow) (24.1)\n",
            "Requirement already satisfied: protobuf!=4.21.0,!=4.21.1,!=4.21.2,!=4.21.3,!=4.21.4,!=4.21.5,<5.0.0dev,>=3.20.3 in /usr/local/lib/python3.10/dist-packages (from tensorflow) (3.20.3)\n",
            "Requirement already satisfied: setuptools in /usr/local/lib/python3.10/dist-packages (from tensorflow) (67.7.2)\n",
            "Requirement already satisfied: six>=1.12.0 in /usr/local/lib/python3.10/dist-packages (from tensorflow) (1.16.0)\n",
            "Requirement already satisfied: termcolor>=1.1.0 in /usr/local/lib/python3.10/dist-packages (from tensorflow) (2.4.0)\n",
            "Requirement already satisfied: typing-extensions>=3.6.6 in /usr/local/lib/python3.10/dist-packages (from tensorflow) (4.12.2)\n",
            "Requirement already satisfied: wrapt<1.15,>=1.11.0 in /usr/local/lib/python3.10/dist-packages (from tensorflow) (1.14.1)\n",
            "Requirement already satisfied: tensorflow-io-gcs-filesystem>=0.23.1 in /usr/local/lib/python3.10/dist-packages (from tensorflow) (0.37.0)\n",
            "Requirement already satisfied: grpcio<2.0,>=1.24.3 in /usr/local/lib/python3.10/dist-packages (from tensorflow) (1.64.1)\n",
            "Requirement already satisfied: tensorboard<2.16,>=2.15 in /usr/local/lib/python3.10/dist-packages (from tensorflow) (2.15.2)\n",
            "Requirement already satisfied: tensorflow-estimator<2.16,>=2.15.0 in /usr/local/lib/python3.10/dist-packages (from tensorflow) (2.15.0)\n",
            "Requirement already satisfied: keras<2.16,>=2.15.0 in /usr/local/lib/python3.10/dist-packages (from tensorflow) (2.15.0)\n",
            "Requirement already satisfied: wheel<1.0,>=0.23.0 in /usr/local/lib/python3.10/dist-packages (from astunparse>=1.6.0->tensorflow) (0.43.0)\n",
            "Requirement already satisfied: google-auth<3,>=1.6.3 in /usr/local/lib/python3.10/dist-packages (from tensorboard<2.16,>=2.15->tensorflow) (2.27.0)\n",
            "Requirement already satisfied: google-auth-oauthlib<2,>=0.5 in /usr/local/lib/python3.10/dist-packages (from tensorboard<2.16,>=2.15->tensorflow) (1.2.0)\n",
            "Requirement already satisfied: markdown>=2.6.8 in /usr/local/lib/python3.10/dist-packages (from tensorboard<2.16,>=2.15->tensorflow) (3.6)\n",
            "Requirement already satisfied: requests<3,>=2.21.0 in /usr/local/lib/python3.10/dist-packages (from tensorboard<2.16,>=2.15->tensorflow) (2.31.0)\n",
            "Requirement already satisfied: tensorboard-data-server<0.8.0,>=0.7.0 in /usr/local/lib/python3.10/dist-packages (from tensorboard<2.16,>=2.15->tensorflow) (0.7.2)\n",
            "Requirement already satisfied: werkzeug>=1.0.1 in /usr/local/lib/python3.10/dist-packages (from tensorboard<2.16,>=2.15->tensorflow) (3.0.3)\n",
            "Requirement already satisfied: cachetools<6.0,>=2.0.0 in /usr/local/lib/python3.10/dist-packages (from google-auth<3,>=1.6.3->tensorboard<2.16,>=2.15->tensorflow) (5.3.3)\n",
            "Requirement already satisfied: pyasn1-modules>=0.2.1 in /usr/local/lib/python3.10/dist-packages (from google-auth<3,>=1.6.3->tensorboard<2.16,>=2.15->tensorflow) (0.4.0)\n",
            "Requirement already satisfied: rsa<5,>=3.1.4 in /usr/local/lib/python3.10/dist-packages (from google-auth<3,>=1.6.3->tensorboard<2.16,>=2.15->tensorflow) (4.9)\n",
            "Requirement already satisfied: requests-oauthlib>=0.7.0 in /usr/local/lib/python3.10/dist-packages (from google-auth-oauthlib<2,>=0.5->tensorboard<2.16,>=2.15->tensorflow) (1.3.1)\n",
            "Requirement already satisfied: charset-normalizer<4,>=2 in /usr/local/lib/python3.10/dist-packages (from requests<3,>=2.21.0->tensorboard<2.16,>=2.15->tensorflow) (3.3.2)\n",
            "Requirement already satisfied: idna<4,>=2.5 in /usr/local/lib/python3.10/dist-packages (from requests<3,>=2.21.0->tensorboard<2.16,>=2.15->tensorflow) (3.7)\n",
            "Requirement already satisfied: urllib3<3,>=1.21.1 in /usr/local/lib/python3.10/dist-packages (from requests<3,>=2.21.0->tensorboard<2.16,>=2.15->tensorflow) (2.0.7)\n",
            "Requirement already satisfied: certifi>=2017.4.17 in /usr/local/lib/python3.10/dist-packages (from requests<3,>=2.21.0->tensorboard<2.16,>=2.15->tensorflow) (2024.6.2)\n",
            "Requirement already satisfied: MarkupSafe>=2.1.1 in /usr/local/lib/python3.10/dist-packages (from werkzeug>=1.0.1->tensorboard<2.16,>=2.15->tensorflow) (2.1.5)\n",
            "Requirement already satisfied: pyasn1<0.7.0,>=0.4.6 in /usr/local/lib/python3.10/dist-packages (from pyasn1-modules>=0.2.1->google-auth<3,>=1.6.3->tensorboard<2.16,>=2.15->tensorflow) (0.6.0)\n",
            "Requirement already satisfied: oauthlib>=3.0.0 in /usr/local/lib/python3.10/dist-packages (from requests-oauthlib>=0.7.0->google-auth-oauthlib<2,>=0.5->tensorboard<2.16,>=2.15->tensorflow) (3.2.2)\n"
          ]
        }
      ]
    },
    {
      "cell_type": "code",
      "source": [
        "import pandas as pd\n",
        "\n",
        "# Load data dari file CSV\n",
        "data_path = '/content/drive/My Drive/KalorikuApp/nutrition.csv'  # Pastikan path sesuai dengan letak file CSV\n",
        "nutrition_data = pd.read_csv(data_path)\n",
        "\n",
        "# Tampilkan beberapa baris pertama untuk verifikasi\n",
        "print(nutrition_data.head())\n"
      ],
      "metadata": {
        "colab": {
          "base_uri": "https://localhost:8080/"
        },
        "id": "lAbF55zdXHI4",
        "outputId": "c8fde6d8-0b79-404f-b2db-ca937fcf24ea"
      },
      "execution_count": null,
      "outputs": [
        {
          "output_type": "stream",
          "name": "stdout",
          "text": [
            "   id  calories  proteins   fat  carbohydrate                name  \\\n",
            "0   1     280.0       9.2  28.4           0.0                Abon   \n",
            "1   2     513.0      23.7  37.0          21.3        Abon haruwan   \n",
            "2   3       0.0       0.0   0.2           0.0           Agar-agar   \n",
            "3   4      45.0       1.1   0.4          10.8  Akar tonjong segar   \n",
            "4   5      37.0       4.4   0.5           3.8       Aletoge segar   \n",
            "\n",
            "                                               image  \n",
            "0  https://img-cdn.medkomtek.com/PbrY9X3ignQ8sVuj...  \n",
            "1  https://img-global.cpcdn.com/recipes/cbf330fbd...  \n",
            "2  https://res.cloudinary.com/dk0z4ums3/image/upl...  \n",
            "3  https://images.tokopedia.net/img/cache/200-squ...  \n",
            "4  https://nilaigizi.com/assets/images/produk/pro...  \n"
          ]
        }
      ]
    },
    {
      "cell_type": "code",
      "source": [
        "# Contoh preprocessing, asumsikan 'calories' sebagai salah satu fitur\n",
        "nutrition_data['calories'] = pd.to_numeric(nutrition_data['calories'], errors='coerce')\n",
        "nutrition_data.dropna(subset=['calories'], inplace=True)  # Hapus baris dengan missing value\n"
      ],
      "metadata": {
        "id": "Orf5gopjXOPM"
      },
      "execution_count": null,
      "outputs": []
    },
    {
      "cell_type": "code",
      "source": [
        "import pandas as pd\n",
        "from sklearn.preprocessing import StandardScaler\n",
        "from sklearn.model_selection import train_test_split\n",
        "\n",
        "# Load data\n",
        "data_path = '/content/drive/My Drive/KalorikuApp/nutrition.csv'\n",
        "nutrition_data = pd.read_csv(data_path)\n",
        "\n",
        "# Clean data\n",
        "nutrition_data.dropna(subset=['calories', 'proteins', 'fat', 'carbohydrate'], inplace=True)\n",
        "\n",
        "# Tambahkan Fitur and Target\n",
        "features = nutrition_data[['proteins', 'fat', 'carbohydrate']]\n",
        "target = nutrition_data['calories']\n",
        "\n",
        "# Preprocessing\n",
        "scaler = StandardScaler()\n",
        "features_scaled = scaler.fit_transform(features)\n",
        "\n",
        "# Membagi dataset untuk training and testing\n",
        "X_train, X_test, y_train, y_test = train_test_split(features_scaled, target, test_size=0.2, random_state=42)"
      ],
      "metadata": {
        "id": "cffl8zxwb_YY"
      },
      "execution_count": null,
      "outputs": []
    },
    {
      "cell_type": "code",
      "source": [
        "import pandas as pd\n",
        "from sklearn.preprocessing import StandardScaler\n",
        "from tensorflow.keras.models import Sequential\n",
        "from tensorflow.keras.layers import Dense\n",
        "\n",
        "# Load data\n",
        "data_path = '/content/drive/My Drive/KalorikuApp/nutrition.csv'\n",
        "nutrition_data = pd.read_csv(data_path)\n",
        "nutrition_data['calories'] = pd.to_numeric(nutrition_data['calories'], errors='coerce')\n",
        "nutrition_data.dropna(subset=['proteins', 'fat', 'carbohydrate', 'calories'], inplace=True)\n",
        "\n",
        "# Preprocessing\n",
        "scaler = StandardScaler()\n",
        "features = scaler.fit_transform(nutrition_data[['proteins', 'fat', 'carbohydrate']].values)\n",
        "target = nutrition_data['calories'].values\n",
        "\n",
        "# Pembuatan Model\n",
        "model = Sequential([\n",
        "    Dense(128, activation='relu', input_shape=(3,)),  # 3 features: proteins, fat, carbohydrate\n",
        "    Dense(64, activation='relu'),\n",
        "    Dense(1, activation='linear')  # Output layer for predicting calories\n",
        "])\n",
        "model.compile(optimizer='adam', loss='mean_squared_error', metrics=['mean_absolute_error'])\n",
        "model.summary()\n",
        "\n",
        "# Train model yang telah dibuat\n",
        "model.fit(features, target, epochs=10, batch_size=10, validation_split=0.2)\n"
      ],
      "metadata": {
        "colab": {
          "base_uri": "https://localhost:8080/"
        },
        "id": "E3xqh4UdXRlm",
        "outputId": "7d722c45-4a54-4ec2-996b-37658d6bf3ab"
      },
      "execution_count": null,
      "outputs": [
        {
          "output_type": "stream",
          "name": "stdout",
          "text": [
            "Model: \"sequential_9\"\n",
            "_________________________________________________________________\n",
            " Layer (type)                Output Shape              Param #   \n",
            "=================================================================\n",
            " dense_27 (Dense)            (None, 128)               512       \n",
            "                                                                 \n",
            " dense_28 (Dense)            (None, 64)                8256      \n",
            "                                                                 \n",
            " dense_29 (Dense)            (None, 1)                 65        \n",
            "                                                                 \n",
            "=================================================================\n",
            "Total params: 8833 (34.50 KB)\n",
            "Trainable params: 8833 (34.50 KB)\n",
            "Non-trainable params: 0 (0.00 Byte)\n",
            "_________________________________________________________________\n",
            "Epoch 1/10\n",
            "108/108 [==============================] - 3s 8ms/step - loss: 69530.9297 - mean_absolute_error: 203.7726 - val_loss: 39452.5625 - val_mean_absolute_error: 153.7071\n",
            "Epoch 2/10\n",
            "108/108 [==============================] - 0s 4ms/step - loss: 37657.5820 - mean_absolute_error: 138.6130 - val_loss: 7168.0371 - val_mean_absolute_error: 64.3442\n",
            "Epoch 3/10\n",
            "108/108 [==============================] - 0s 4ms/step - loss: 10982.7871 - mean_absolute_error: 53.5175 - val_loss: 1854.4026 - val_mean_absolute_error: 32.5446\n",
            "Epoch 4/10\n",
            "108/108 [==============================] - 0s 3ms/step - loss: 8258.8711 - mean_absolute_error: 44.5223 - val_loss: 1637.6298 - val_mean_absolute_error: 30.6509\n",
            "Epoch 5/10\n",
            "108/108 [==============================] - 0s 4ms/step - loss: 7359.5698 - mean_absolute_error: 37.2546 - val_loss: 1561.6698 - val_mean_absolute_error: 29.7170\n",
            "Epoch 6/10\n",
            "108/108 [==============================] - 0s 3ms/step - loss: 6716.5732 - mean_absolute_error: 36.6625 - val_loss: 1507.5885 - val_mean_absolute_error: 29.2479\n",
            "Epoch 7/10\n",
            "108/108 [==============================] - 0s 3ms/step - loss: 6501.9697 - mean_absolute_error: 37.9405 - val_loss: 1662.0039 - val_mean_absolute_error: 31.4392\n",
            "Epoch 8/10\n",
            "108/108 [==============================] - 0s 4ms/step - loss: 6236.6909 - mean_absolute_error: 39.9880 - val_loss: 1693.4330 - val_mean_absolute_error: 32.6259\n",
            "Epoch 9/10\n",
            "108/108 [==============================] - 0s 3ms/step - loss: 6230.5581 - mean_absolute_error: 39.7904 - val_loss: 1730.2225 - val_mean_absolute_error: 33.1006\n",
            "Epoch 10/10\n",
            "108/108 [==============================] - 0s 3ms/step - loss: 6134.3696 - mean_absolute_error: 39.3643 - val_loss: 1707.9259 - val_mean_absolute_error: 31.1895\n"
          ]
        },
        {
          "output_type": "execute_result",
          "data": {
            "text/plain": [
              "<keras.src.callbacks.History at 0x79ea95a685b0>"
            ]
          },
          "metadata": {},
          "execution_count": 40
        }
      ]
    },
    {
      "cell_type": "code",
      "source": [
        "import pandas as pd\n",
        "\n",
        "def calculate_daily_calories(weight, height, age, goal_index):\n",
        "    # Asumsikan gender sebagai laki laki untuk mempermudah\n",
        "    BMR = 10 * weight + 6.25 * height - 5 * age + 5  # Plus 5 untuk laki laki, kurangi 161 untuk perempuan\n",
        "\n",
        "    # Sesuaikan BMR berdasarkan goal_index\n",
        "    if goal_index == 0:  # Menaikkan berat badan\n",
        "        return BMR + 500\n",
        "    elif goal_index == 1:  # Menurunkan berat badan\n",
        "        return BMR - 500\n",
        "    else:  # Menjaga berat badan\n",
        "        return BMR\n",
        "\n",
        "\n",
        "def recommend_meals(data, daily_calories):\n",
        "    meal_calories = daily_calories / 3\n",
        "    suitable_foods = data[(data['calories'] >= 0.8 * meal_calories) & (data['calories'] <= 1.2 * meal_calories)]\n",
        "    if suitable_foods.shape[0] >= 3:\n",
        "        return suitable_foods.sample(3)\n",
        "    else:\n",
        "        print(\"Not enough suitable meals found to recommend.\")\n",
        "        return pd.DataFrame()  # Return DataFrame kosong jika kurang dari 3 makanan yang cocok ditemukan\n",
        "\n",
        "def main():\n",
        "    data_path = '/content/drive/My Drive/KalorikuApp/nutrition.csv'\n",
        "    nutrition_data = pd.read_csv(data_path)\n",
        "    nutrition_data['calories'] = pd.to_numeric(nutrition_data['calories'], errors='coerce')\n",
        "    nutrition_data.dropna(subset=['calories'], inplace=True)\n",
        "\n",
        "    # Contoh input dari User\n",
        "    weight = float(input(\"Enter your weight in kg: \"))\n",
        "    height = float(input(\"Enter your height in cm: \"))\n",
        "    age = int(input(\"Enter your age in years: \"))\n",
        "\n",
        "    # Konversikan goal dari 'string' menjadi 'float'\n",
        "    goals = {\"increase\": 0.0, \"decrease\": 1.0, \"maintain\": 2.0}\n",
        "    goal_input = input(\"Enter your goal (increase, decrease, maintain): \").lower()\n",
        "    if goal_input in goals:\n",
        "        goal_index = goals[goal_input]\n",
        "    else:\n",
        "        print(\"Invalid goal entered. Please enter 'increase', 'decrease', or 'maintain'.\")\n",
        "        return\n",
        "\n",
        "    # Hitung kalori harian\n",
        "    daily_calories_needed = calculate_daily_calories(weight, height, age, goal_index)\n",
        "\n",
        "    # Dapatkan rekomendasi makanan\n",
        "    recommended_meals = recommend_meals(nutrition_data, daily_calories_needed)\n",
        "\n",
        "    if not recommended_meals.empty:\n",
        "        # Ekstrak dalam variabel terpisah\n",
        "        meal_1 = recommended_meals.iloc[0]\n",
        "        meal_2 = recommended_meals.iloc[1]\n",
        "        meal_3 = recommended_meals.iloc[2]\n",
        "\n",
        "        print(\"Meal 1:\", meal_1)\n",
        "        print(\"Meal 2:\", meal_2)\n",
        "        print(\"Meal 3:\", meal_3)\n",
        "    else:\n",
        "        print(\"Unable to extract meals as the recommendation list is empty.\")\n",
        "\n",
        "if __name__ == \"__main__\":\n",
        "    main()\n"
      ],
      "metadata": {
        "colab": {
          "base_uri": "https://localhost:8080/"
        },
        "id": "dRMqZNugSDhr",
        "outputId": "b1bbb8de-9a1d-4376-cab5-8d7517618106"
      },
      "execution_count": null,
      "outputs": [
        {
          "output_type": "stream",
          "name": "stdout",
          "text": [
            "Enter your weight in kg: 50\n",
            "Enter your height in cm: 180\n",
            "Enter your age in years: 90\n",
            "Enter your goal (increase, decrease, maintain): maintain\n",
            "Meal 1: id                                                           1266\n",
            "calories                                                    353.0\n",
            "proteins                                                      2.9\n",
            "fat                                                           0.5\n",
            "carbohydrate                                                 84.4\n",
            "name                                                 Tepung Sukun\n",
            "image           https://www.static-src.com/wcsstore/Indraprast...\n",
            "Name: 1265, dtype: object\n",
            "Meal 2: id                                                           1257\n",
            "calories                                                    355.0\n",
            "proteins                                                      9.2\n",
            "fat                                                           3.9\n",
            "carbohydrate                                                 73.7\n",
            "name                                          Tepung jagung putih\n",
            "image           https://images.tokopedia.net/img/cache/500-squ...\n",
            "Name: 1256, dtype: object\n",
            "Meal 3: id                                                           1085\n",
            "calories                                                    448.0\n",
            "proteins                                                     14.5\n",
            "fat                                                          42.3\n",
            "carbohydrate                                                  2.3\n",
            "name                                    Sapi daging sosis (Worst)\n",
            "image           https://images.tokopedia.net/img/cache/700/pro...\n",
            "Name: 1084, dtype: object\n"
          ]
        }
      ]
    },
    {
      "cell_type": "code",
      "source": [
        "model_save_path = '/content/drive/My Drive/KalorikuApp/my_model.h5'\n"
      ],
      "metadata": {
        "id": "1jEgb0BKtp92"
      },
      "execution_count": null,
      "outputs": []
    },
    {
      "cell_type": "code",
      "source": [
        "model.save(model_save_path)\n"
      ],
      "metadata": {
        "id": "b_E04Q3btvB6",
        "outputId": "36efd36c-6612-4e99-d964-d87a98b7149c",
        "colab": {
          "base_uri": "https://localhost:8080/"
        }
      },
      "execution_count": null,
      "outputs": [
        {
          "output_type": "stream",
          "name": "stderr",
          "text": [
            "/usr/local/lib/python3.10/dist-packages/keras/src/engine/training.py:3103: UserWarning: You are saving your model as an HDF5 file via `model.save()`. This file format is considered legacy. We recommend using instead the native Keras format, e.g. `model.save('my_model.keras')`.\n",
            "  saving_api.save_model(\n"
          ]
        }
      ]
    },
    {
      "cell_type": "code",
      "source": [
        "import tensorflow as tf\n",
        "\n",
        "# Mount Google Drive (hanya untuk keperluan colab)\n",
        "from google.colab import drive\n",
        "drive.mount('/content/drive')\n",
        "\n",
        "# Sesuaikan path di mana model TensorFlow Lite akan disimpan\n",
        "tflite_model_path = '/content/drive/My Drive/KalorikuApp/metadata.tflite'\n",
        "\n",
        "# Konversikan menjadi format TFlite\n",
        "converter = tf.lite.TFLiteConverter.from_keras_model(model)\n",
        "tflite_model = converter.convert()\n",
        "\n",
        "# Simpan model TFlite\n",
        "with open(tflite_model_path, 'wb') as f:\n",
        "    f.write(tflite_model)\n",
        "\n",
        "print(\"Model saved to Google Drive successfully!\")\n"
      ],
      "metadata": {
        "colab": {
          "base_uri": "https://localhost:8080/"
        },
        "id": "nSd5KpOzXcAN",
        "outputId": "95894662-d96d-486c-9aa1-4b8b3cd3bbba"
      },
      "execution_count": null,
      "outputs": [
        {
          "output_type": "stream",
          "name": "stdout",
          "text": [
            "Drive already mounted at /content/drive; to attempt to forcibly remount, call drive.mount(\"/content/drive\", force_remount=True).\n",
            "Model saved to Google Drive successfully!\n"
          ]
        }
      ]
    },
    {
      "cell_type": "code",
      "source": [
        "import tensorflow as tf\n",
        "\n",
        "# Sesuaikan dengan path dimana file TFlite berada\n",
        "tflite_model_path = '/content/drive/My Drive/KalorikuApp/metadata.tflite'\n",
        "try:\n",
        "    # Load model TFlite sebagai interpreter\n",
        "    interpreter = tf.lite.Interpreter(model_path=tflite_model_path)\n",
        "    interpreter.allocate_tensors()\n",
        "    print(\"The model is loaded successfully and does not seem to be corrupt.\")\n",
        "except Exception as e:\n",
        "    print(\"Failed to load the model:\", e)\n"
      ],
      "metadata": {
        "colab": {
          "base_uri": "https://localhost:8080/"
        },
        "id": "wSfjjfbqGua8",
        "outputId": "72efc1b3-66b4-44e4-b5c7-1f1173ac2464"
      },
      "execution_count": null,
      "outputs": [
        {
          "output_type": "stream",
          "name": "stdout",
          "text": [
            "The model is loaded successfully and does not seem to be corrupt.\n"
          ]
        }
      ]
    },
    {
      "cell_type": "markdown",
      "source": [
        "Convert tflite model to tfjs"
      ],
      "metadata": {
        "id": "9KAyyEBPK2Gs"
      }
    },
    {
      "cell_type": "code",
      "source": [
        "!tensorflowjs_converter \\\n",
        "  --input_format=tf_lite \\\n",
        "  --output_format=tfjs_graph_model \\\n",
        "  --quantization_bytes=1 \\\n",
        "  /content/drive/My Drive/KalorikuApp/metadata.tflite \\\n",
        "  /content/drive/My Drive/KalorikuApp/metadata_tfjs\n"
      ],
      "metadata": {
        "colab": {
          "base_uri": "https://localhost:8080/"
        },
        "id": "eOmrxww1JJEM",
        "outputId": "2a13e3e2-3f20-4f27-f958-0a1b4a887f8c"
      },
      "execution_count": null,
      "outputs": [
        {
          "output_type": "stream",
          "name": "stdout",
          "text": [
            "2024-06-18 11:50:04.654993: I tensorflow/core/platform/cpu_feature_guard.cc:210] This TensorFlow binary is optimized to use available CPU instructions in performance-critical operations.\n",
            "To enable the following instructions: AVX2 FMA, in other operations, rebuild TensorFlow with the appropriate compiler flags.\n",
            "2024-06-18 11:50:05.921205: W tensorflow/compiler/tf2tensorrt/utils/py_utils.cc:38] TF-TRT Warning: Could not find TensorRT\n",
            "usage: TensorFlow.js model converters. [-h]\n",
            "                                       [--input_format {tf_hub,tf_frozen_model,tf_saved_model,tfjs_layers_model,keras,keras_keras,keras_saved_model}]\n",
            "                                       [--output_format {tfjs_graph_model,tfjs_layers_model,keras,keras_keras,keras_saved_model}]\n",
            "                                       [--signature_name SIGNATURE_NAME]\n",
            "                                       [--saved_model_tags SAVED_MODEL_TAGS]\n",
            "                                       [--quantize_float16 [QUANTIZE_FLOAT16]]\n",
            "                                       [--quantize_uint8 [QUANTIZE_UINT8]]\n",
            "                                       [--quantize_uint16 [QUANTIZE_UINT16]]\n",
            "                                       [--quantization_bytes {1,2}] [--split_weights_by_layer]\n",
            "                                       [--version] [--skip_op_check]\n",
            "                                       [--strip_debug_ops STRIP_DEBUG_OPS]\n",
            "                                       [--use_structured_outputs_names USE_STRUCTURED_OUTPUTS_NAMES]\n",
            "                                       [--weight_shard_size_bytes WEIGHT_SHARD_SIZE_BYTES]\n",
            "                                       [--output_node_names OUTPUT_NODE_NAMES]\n",
            "                                       [--control_flow_v2 CONTROL_FLOW_V2]\n",
            "                                       [--experiments EXPERIMENTS] [--metadata METADATA]\n",
            "                                       [input_path] [output_path]\n",
            "TensorFlow.js model converters.: error: argument --input_format: invalid choice: 'tf_lite' (choose from 'tf_hub', 'tf_frozen_model', 'tf_saved_model', 'tfjs_layers_model', 'keras', 'keras_keras', 'keras_saved_model')\n"
          ]
        }
      ]
    },
    {
      "cell_type": "code",
      "source": [
        "import numpy as np\n",
        "import tensorflow as tf\n",
        "\n",
        "# Load model TFlite\n",
        "tflite_model_path = '/content/drive/My Drive/KalorikuApp/metadata.tflite'\n",
        "interpreter = tf.lite.Interpreter(model_path=tflite_model_path)\n",
        "interpreter.allocate_tensors()\n",
        "\n",
        "# Dapatkan input dan output tensor\n",
        "input_details = interpreter.get_input_details()\n",
        "output_details = interpreter.get_output_details()\n",
        "\n",
        "# Input uji sampel (ganti dengan data input asli)\n",
        "test_input = np.array([[2.0, 0.5, 1.2]], dtype=np.float32)  # Contoh values dari proteins, fat, carbohydrate\n",
        "\n",
        "# Atur input tensor\n",
        "interpreter.set_tensor(input_details[0]['index'], test_input)\n",
        "\n",
        "# Run\n",
        "interpreter.invoke()\n",
        "\n",
        "# Dapatkan output tensor\n",
        "output_data = interpreter.get_tensor(output_details[0]['index'])\n",
        "print(f'Predicted Calories: {output_data[0][0]}')\n"
      ],
      "metadata": {
        "colab": {
          "base_uri": "https://localhost:8080/"
        },
        "id": "q0rpLq4bHUiB",
        "outputId": "c8723fbe-b0b1-4a34-b438-cd7ad869e8b7"
      },
      "execution_count": null,
      "outputs": [
        {
          "output_type": "stream",
          "name": "stdout",
          "text": [
            "Predicted Calories: 415.25274658203125\n"
          ]
        }
      ]
    }
  ]
}